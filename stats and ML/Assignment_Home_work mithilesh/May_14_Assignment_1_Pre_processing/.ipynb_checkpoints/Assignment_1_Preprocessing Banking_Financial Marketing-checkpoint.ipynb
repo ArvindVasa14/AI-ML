{
 "cells": [
  {
   "cell_type": "code",
   "execution_count": 1,
   "id": "c67ff5c7",
   "metadata": {},
   "outputs": [],
   "source": [
    "#Banking & Financial Marketing"
   ]
  },
  {
   "cell_type": "markdown",
   "id": "02f17338",
   "metadata": {},
   "source": [
    "Domain :- Banking , Finance Marketing\n",
    "\n",
    "About the dataset:- Details of clients  who had purchased some long term investment bond or made investment in long termFixed deposit etc.\n"
   ]
  },
  {
   "cell_type": "markdown",
   "id": "71e3fa43",
   "metadata": {},
   "source": [
    "Assignment:-\n",
    "    (A)Preprocessing-\n",
    "    (1)Handling  Missing value-- Apply Imputation and Drop approach.\n",
    "    (2)Outlier treatment- apply trimming and capping approach\n",
    "    (3)label_Encoding/astype approach.\n",
    "    (4)One_hot encoding approach\n",
    "    "
   ]
  },
  {
   "cell_type": "code",
   "execution_count": null,
   "id": "d4c79f5c",
   "metadata": {},
   "outputs": [],
   "source": [
    "Dataset detail:-\n",
    "    \n",
    "# Independent variables:\n",
    "\n",
    "# age : age of the client \n",
    "# job : type of the job \n",
    "# marital : marital status\n",
    "# education : level of education \n",
    "# default : loan defaulter or not\n",
    "# balance : bank balance in dollers\n",
    "# housing : client have the house loan or not\n",
    "# loan : client have the personal loan or not \n",
    "# contact : type of the contact of the client  \n",
    "# day : last contact day of the client \n",
    "# month : last contact month of the client \n",
    "# duration : call duartion with the client(in sec's)\n",
    "# campaign : no of times contacted with client in the entire campaign \n",
    "# pdays : no of days before client contacted \n",
    "# previous : no of times contacted with client in the before the campaign\n",
    "# poutcome : outcome of the previous marketing campaign\n",
    "\n",
    "# ------------------------------------------------------------------------------------------------------\n",
    "# Dependent variable:\n",
    "\n",
    "# Target : product subscribed or not"
   ]
  },
  {
   "cell_type": "code",
   "execution_count": null,
   "id": "116dbf76",
   "metadata": {},
   "outputs": [],
   "source": [
    "import numpy as np\n",
    "import pandas as pd\n",
    "import matplotlib.pyplot as plt\n",
    "import warnings \n",
    "\n",
    "warnings.filterwarnings('ignore')\n",
    "%matplotlib inline\n",
    "\n",
    "import seaborn as sns\n",
    "sns.set()"
   ]
  },
  {
   "cell_type": "code",
   "execution_count": 2,
   "id": "b74e6fe0",
   "metadata": {},
   "outputs": [],
   "source": [
    "data=pd.read_csv('Banking_finance.csv')"
   ]
  },
  {
   "cell_type": "code",
   "execution_count": 3,
   "id": "d7e4279f",
   "metadata": {},
   "outputs": [],
   "source": [
    "df=data.copy()"
   ]
  },
  {
   "cell_type": "code",
   "execution_count": null,
   "id": "ed8d67ea",
   "metadata": {},
   "outputs": [],
   "source": []
  },
  {
   "cell_type": "code",
   "execution_count": null,
   "id": "ab15da04",
   "metadata": {},
   "outputs": [],
   "source": []
  },
  {
   "cell_type": "code",
   "execution_count": null,
   "id": "7b20e325",
   "metadata": {},
   "outputs": [],
   "source": []
  },
  {
   "cell_type": "code",
   "execution_count": null,
   "id": "c78b7717",
   "metadata": {},
   "outputs": [],
   "source": []
  },
  {
   "cell_type": "code",
   "execution_count": null,
   "id": "a4775179",
   "metadata": {},
   "outputs": [],
   "source": []
  }
 ],
 "metadata": {
  "kernelspec": {
   "display_name": "Python 3 (ipykernel)",
   "language": "python",
   "name": "python3"
  },
  "language_info": {
   "codemirror_mode": {
    "name": "ipython",
    "version": 3
   },
   "file_extension": ".py",
   "mimetype": "text/x-python",
   "name": "python",
   "nbconvert_exporter": "python",
   "pygments_lexer": "ipython3",
   "version": "3.10.9"
  }
 },
 "nbformat": 4,
 "nbformat_minor": 5
}
