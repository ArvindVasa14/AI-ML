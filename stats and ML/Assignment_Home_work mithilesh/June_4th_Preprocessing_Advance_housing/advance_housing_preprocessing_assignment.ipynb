{
 "cells": [
  {
   "cell_type": "code",
   "execution_count": null,
   "id": "3339de67",
   "metadata": {},
   "outputs": [],
   "source": [
    "# advance housing_ preprocessing"
   ]
  },
  {
   "cell_type": "code",
   "execution_count": null,
   "id": "20e67b4c",
   "metadata": {},
   "outputs": [],
   "source": [
    "# pl. complete the assignments on both train and test dataset\n",
    "\n",
    "# Missing value, outlier,label encoding,corr() matrix.. see if there is any multi collinearity"
   ]
  },
  {
   "cell_type": "code",
   "execution_count": null,
   "id": "9cc3cf4b",
   "metadata": {},
   "outputs": [],
   "source": []
  }
 ],
 "metadata": {
  "kernelspec": {
   "display_name": "Python 3 (ipykernel)",
   "language": "python",
   "name": "python3"
  },
  "language_info": {
   "codemirror_mode": {
    "name": "ipython",
    "version": 3
   },
   "file_extension": ".py",
   "mimetype": "text/x-python",
   "name": "python",
   "nbconvert_exporter": "python",
   "pygments_lexer": "ipython3",
   "version": "3.10.9"
  }
 },
 "nbformat": 4,
 "nbformat_minor": 5
}
