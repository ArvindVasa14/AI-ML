{
 "cells": [
  {
   "cell_type": "code",
   "execution_count": 1,
   "id": "fe7e47a8",
   "metadata": {},
   "outputs": [],
   "source": [
    "# Write a Python Program for the calculations of Point Estimates,Interval Estimates and\n",
    "# Hypothesis Testing.\n",
    "\n"
   ]
  },
  {
   "cell_type": "code",
   "execution_count": null,
   "id": "28545a14",
   "metadata": {},
   "outputs": [],
   "source": [
    "def estimates(csv_file, sample_mean=0, Sample_size=0, Std_dev=0, csv_flag = 0):\n",
    "    if(csv_flag==1):\n",
    "        "
   ]
  }
 ],
 "metadata": {
  "kernelspec": {
   "display_name": "Python 3",
   "language": "python",
   "name": "python3"
  },
  "language_info": {
   "codemirror_mode": {
    "name": "ipython",
    "version": 3
   },
   "file_extension": ".py",
   "mimetype": "text/x-python",
   "name": "python",
   "nbconvert_exporter": "python",
   "pygments_lexer": "ipython3",
   "version": "3.11.3"
  },
  "vscode": {
   "interpreter": {
    "hash": "313fe256b9c9e44ff0b6e04804790a471dbc2a6883fa7c351c25e808afbca701"
   }
  }
 },
 "nbformat": 4,
 "nbformat_minor": 5
}
